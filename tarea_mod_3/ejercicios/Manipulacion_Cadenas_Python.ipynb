{
 "cells": [
  {
   "cell_type": "markdown",
   "id": "cc5354d6",
   "metadata": {},
   "source": [
    "# Manipulación de cadenas de texto\n",
    "Ejemplos prácticos en Python para la clase."
   ]
  },
  {
   "cell_type": "markdown",
   "id": "79387994",
   "metadata": {},
   "source": [
    "### Declaración de cadenas"
   ]
  },
  {
   "cell_type": "code",
   "execution_count": null,
   "id": "292b54fd",
   "metadata": {},
   "outputs": [],
   "source": [
    "\n",
    "# Cadenas entre comillas simples\n",
    "mensaje1 = 'Hola mundo'\n",
    "print(mensaje1)\n",
    "\n",
    "# Cadenas entre comillas dobles\n",
    "mensaje2 = \"Hola mundo\"\n",
    "print(mensaje2)\n",
    "\n",
    "# Cadenas multilínea con triple comillas\n",
    "mensaje3 = \"\"\"Este es un\n",
    "mensaje\n",
    "multilínea\"\"\"\n",
    "print(mensaje3)\n"
   ]
  },
  {
   "cell_type": "markdown",
   "id": "ddf7025f",
   "metadata": {},
   "source": [
    "### Métodos básicos de cadenas"
   ]
  },
  {
   "cell_type": "markdown",
   "id": "032d47f1",
   "metadata": {},
   "source": [
    "#### .upper()"
   ]
  },
  {
   "cell_type": "code",
   "execution_count": null,
   "id": "23ed2df5",
   "metadata": {},
   "outputs": [],
   "source": [
    "\n",
    "texto = \"python\"\n",
    "print(texto.upper())  # \"PYTHON\"\n"
   ]
  },
  {
   "cell_type": "markdown",
   "id": "a8991580",
   "metadata": {},
   "source": [
    "#### .lower()"
   ]
  },
  {
   "cell_type": "code",
   "execution_count": null,
   "id": "b49c6b20",
   "metadata": {},
   "outputs": [],
   "source": [
    "\n",
    "texto = \"PYTHON\"\n",
    "print(texto.lower())  # \"python\"\n"
   ]
  },
  {
   "cell_type": "markdown",
   "id": "5c480c53",
   "metadata": {},
   "source": [
    "#### .strip()"
   ]
  },
  {
   "cell_type": "code",
   "execution_count": null,
   "id": "7a35ae9a",
   "metadata": {},
   "outputs": [],
   "source": [
    "\n",
    "texto = \"   datos   \"\n",
    "print(texto.strip())  # \"datos\"\n"
   ]
  },
  {
   "cell_type": "markdown",
   "id": "854b91d6",
   "metadata": {},
   "source": [
    "#### .replace()"
   ]
  },
  {
   "cell_type": "code",
   "execution_count": null,
   "id": "b55e9315",
   "metadata": {},
   "outputs": [],
   "source": [
    "\n",
    "texto = \"Hola mundo\"\n",
    "print(texto.replace(\"mundo\", \"Python\"))  # \"Hola Python\"\n"
   ]
  },
  {
   "cell_type": "markdown",
   "id": "9fb0db00",
   "metadata": {},
   "source": [
    "#### .split()"
   ]
  },
  {
   "cell_type": "code",
   "execution_count": null,
   "id": "089ae5e4",
   "metadata": {},
   "outputs": [],
   "source": [
    "\n",
    "texto = \"manzana,pera,plátano\"\n",
    "lista_frutas = texto.split(\",\")\n",
    "print(lista_frutas)  # ['manzana', 'pera', 'plátano']\n"
   ]
  },
  {
   "cell_type": "markdown",
   "id": "0938f8bf",
   "metadata": {},
   "source": [
    "#### .join()"
   ]
  },
  {
   "cell_type": "code",
   "execution_count": null,
   "id": "6c0ae0d8",
   "metadata": {},
   "outputs": [],
   "source": [
    "\n",
    "frutas = [\"manzana\", \"pera\", \"plátano\"]\n",
    "texto = \", \".join(frutas)\n",
    "print(texto)  # \"manzana, pera, plátano\"\n"
   ]
  },
  {
   "cell_type": "markdown",
   "id": "2cbf287b",
   "metadata": {},
   "source": [
    "### Formateo de cadenas con f-strings"
   ]
  },
  {
   "cell_type": "code",
   "execution_count": null,
   "id": "f96e2539",
   "metadata": {},
   "outputs": [],
   "source": [
    "\n",
    "nombre = \"Ana\"\n",
    "edad = 30\n",
    "print(f\"Hola, mi nombre es {nombre} y tengo {edad} años.\")\n"
   ]
  },
  {
   "cell_type": "markdown",
   "id": "e7631e4a",
   "metadata": {},
   "source": [
    "### Ejemplo práctico: limpieza de texto"
   ]
  },
  {
   "cell_type": "code",
   "execution_count": null,
   "id": "1db012c9",
   "metadata": {},
   "outputs": [],
   "source": [
    "\n",
    "nombre = \"   juan pérez   \"\n",
    "\n",
    "# Limpiamos:\n",
    "nombre_limpio = nombre.strip().title()  # Quitar espacios y poner la primera letra en mayúscula\n",
    "print(nombre_limpio)  # \"Juan Pérez\"\n"
   ]
  },
  {
   "cell_type": "markdown",
   "id": "ec7d42ee",
   "metadata": {},
   "source": [
    "### Actividad 1: Nombre en mayúsculas, minúsculas y title case"
   ]
  },
  {
   "cell_type": "code",
   "execution_count": null,
   "id": "785cb060",
   "metadata": {},
   "outputs": [],
   "source": [
    "\n",
    "nombre = input(\"Ingrese su nombre completo: \")\n",
    "\n",
    "print(\"En mayúsculas:\", nombre.upper())\n",
    "print(\"En minúsculas:\", nombre.lower())\n",
    "print(\"En title case:\", nombre.title())\n"
   ]
  },
  {
   "cell_type": "markdown",
   "id": "c2d45792",
   "metadata": {},
   "source": [
    "### Actividad 2: Separar y ordenar palabras"
   ]
  },
  {
   "cell_type": "code",
   "execution_count": null,
   "id": "c56979f8",
   "metadata": {},
   "outputs": [],
   "source": [
    "\n",
    "entrada = input(\"Ingrese palabras separadas por comas: \")\n",
    "palabras = entrada.split(\",\")\n",
    "palabras_ordenadas = sorted([p.strip() for p in palabras])\n",
    "\n",
    "print(\"Palabras ordenadas:\", palabras_ordenadas)\n"
   ]
  },
  {
   "cell_type": "markdown",
   "id": "ff49b15e",
   "metadata": {},
   "source": [
    "### Actividad 3: Generar códigos de productos"
   ]
  },
  {
   "cell_type": "code",
   "execution_count": null,
   "id": "e27998f6",
   "metadata": {},
   "outputs": [],
   "source": [
    "\n",
    "producto = input(\"Ingrese el nombre del producto: \")\n",
    "codigo = producto.strip().lower().replace(\" \", \"-\")\n",
    "print(\"Código generado:\", codigo)\n"
   ]
  }
 ],
 "metadata": {},
 "nbformat": 4,
 "nbformat_minor": 5
}
