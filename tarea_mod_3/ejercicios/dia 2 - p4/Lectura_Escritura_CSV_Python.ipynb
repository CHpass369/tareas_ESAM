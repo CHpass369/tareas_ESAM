{
 "cells": [
  {
   "cell_type": "markdown",
   "id": "f5f29086",
   "metadata": {},
   "source": [
    "# Lectura y escritura de archivos CSV con pandas\n",
    "Ejemplos prácticos en Python para la clase."
   ]
  },
  {
   "cell_type": "markdown",
   "id": "21558c73",
   "metadata": {},
   "source": [
    "### Carga de la librería pandas"
   ]
  },
  {
   "cell_type": "code",
   "execution_count": null,
   "id": "baaf3c62",
   "metadata": {},
   "outputs": [],
   "source": [
    "import pandas as pd"
   ]
  },
  {
   "cell_type": "markdown",
   "id": "332cffd4",
   "metadata": {},
   "source": [
    "### Leer un archivo CSV: `pd.read_csv()`"
   ]
  },
  {
   "cell_type": "code",
   "execution_count": null,
   "id": "146724c9",
   "metadata": {},
   "outputs": [],
   "source": [
    "\n",
    "df = pd.read_csv('clientes.csv', encoding='utf-8')\n",
    "print(df)\n"
   ]
  },
  {
   "cell_type": "markdown",
   "id": "23f6f8e0",
   "metadata": {},
   "source": [
    "### Exploración inicial del DataFrame"
   ]
  },
  {
   "cell_type": "code",
   "execution_count": null,
   "id": "85bbd4f7",
   "metadata": {},
   "outputs": [],
   "source": [
    "\n",
    "print(df.head())\n",
    "df.info()\n",
    "df.describe()\n"
   ]
  },
  {
   "cell_type": "markdown",
   "id": "ef096baa",
   "metadata": {},
   "source": [
    "### Guardar un DataFrame como CSV: `df.to_csv()`"
   ]
  },
  {
   "cell_type": "code",
   "execution_count": null,
   "id": "c04e1701",
   "metadata": {},
   "outputs": [],
   "source": [
    "\n",
    "df_mayores = df[df['Edad'] > 30]\n",
    "df_mayores.to_csv('clientes_mayores.csv', index=False)\n",
    "print(\"Archivo clientes_mayores.csv generado.\")\n"
   ]
  },
  {
   "cell_type": "markdown",
   "id": "fc28f8a3",
   "metadata": {},
   "source": [
    "### Actividad 1: Leer ventas.csv y mostrar las primeras 5 filas"
   ]
  },
  {
   "cell_type": "code",
   "execution_count": null,
   "id": "2731e763",
   "metadata": {},
   "outputs": [],
   "source": [
    "\n",
    "df_ventas = pd.read_csv('ventas.csv', encoding='utf-8')\n",
    "print(df_ventas.head())\n"
   ]
  },
  {
   "cell_type": "markdown",
   "id": "46e084b2",
   "metadata": {},
   "source": [
    "### Actividad 2: Filtrar ventas mayores a 1000 y guardar en ventas_filtradas.csv"
   ]
  },
  {
   "cell_type": "code",
   "execution_count": null,
   "id": "60c2c5ec",
   "metadata": {},
   "outputs": [],
   "source": [
    "\n",
    "df_filtradas = df_ventas[df_ventas['Monto'] > 1000]\n",
    "df_filtradas.to_csv('ventas_filtradas.csv', index=False)\n",
    "print(\"Archivo ventas_filtradas.csv generado.\")\n"
   ]
  },
  {
   "cell_type": "markdown",
   "id": "2172129d",
   "metadata": {},
   "source": [
    "### Actividad 3: Limpiar nombres de clientes y guardar clientes_limpios.csv"
   ]
  },
  {
   "cell_type": "code",
   "execution_count": null,
   "id": "dd0b765e",
   "metadata": {},
   "outputs": [],
   "source": [
    "\n",
    "df['Nombre'] = df['Nombre'].str.strip().str.title()\n",
    "df.to_csv('clientes_limpios.csv', index=False)\n",
    "print(\"Archivo clientes_limpios.csv generado.\")\n"
   ]
  }
 ],
 "metadata": {},
 "nbformat": 4,
 "nbformat_minor": 5
}
