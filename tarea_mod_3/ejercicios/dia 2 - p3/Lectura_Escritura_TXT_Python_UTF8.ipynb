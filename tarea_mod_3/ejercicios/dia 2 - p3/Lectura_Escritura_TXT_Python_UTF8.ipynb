{
 "cells": [
  {
   "cell_type": "markdown",
   "id": "ce50b32a",
   "metadata": {},
   "source": [
    "# Lectura y escritura de archivos de texto (TXT)\n",
    "Ejemplos prácticos en Python para la clase (con manejo correcto de codificación UTF-8)."
   ]
  },
  {
   "cell_type": "markdown",
   "id": "12862e3d",
   "metadata": {},
   "source": [
    "### Conceptos básicos\n",
    "Usamos `with open()` para abrir y trabajar con archivos de texto.\n",
    "Siempre especificamos `encoding='utf-8'` para evitar problemas con acentos y caracteres especiales."
   ]
  },
  {
   "cell_type": "markdown",
   "id": "fc457bc2",
   "metadata": {},
   "source": [
    "### Modos de apertura\n",
    "'r' → Lectura\n",
    "'w' → Escritura (sobrescribe)\n",
    "'a' → Adición"
   ]
  },
  {
   "cell_type": "markdown",
   "id": "2a47c210",
   "metadata": {},
   "source": [
    "### Leer todo el contenido de un archivo"
   ]
  },
  {
   "cell_type": "code",
   "execution_count": null,
   "id": "e3e52e7d",
   "metadata": {},
   "outputs": [],
   "source": [
    "\n",
    "with open('archivo.txt', 'r', encoding='utf-8') as archivo:\n",
    "    contenido = archivo.read()\n",
    "    print(contenido)\n"
   ]
  },
  {
   "cell_type": "markdown",
   "id": "03d10ab9",
   "metadata": {},
   "source": [
    "### Leer línea por línea"
   ]
  },
  {
   "cell_type": "code",
   "execution_count": null,
   "id": "ff646479",
   "metadata": {},
   "outputs": [],
   "source": [
    "\n",
    "with open('archivo.txt', 'r', encoding='utf-8') as archivo:\n",
    "    for linea in archivo:\n",
    "        print(linea.strip())\n"
   ]
  },
  {
   "cell_type": "markdown",
   "id": "175c9e7d",
   "metadata": {},
   "source": [
    "### Escritura de un archivo (modo 'w')"
   ]
  },
  {
   "cell_type": "code",
   "execution_count": null,
   "id": "9928b709",
   "metadata": {},
   "outputs": [],
   "source": [
    "\n",
    "with open('salida.txt', 'w', encoding='utf-8') as archivo:\n",
    "    archivo.write(\"Primera línea de texto.\\n\")\n",
    "    archivo.write(\"Segunda línea de texto.\\n\")\n"
   ]
  },
  {
   "cell_type": "markdown",
   "id": "f61c7f0d",
   "metadata": {},
   "source": [
    "### Añadir contenido (modo 'a')"
   ]
  },
  {
   "cell_type": "code",
   "execution_count": null,
   "id": "33b54209",
   "metadata": {},
   "outputs": [],
   "source": [
    "\n",
    "with open('salida.txt', 'a', encoding='utf-8') as archivo:\n",
    "    archivo.write(\"Nueva línea añadida.\\n\")\n"
   ]
  },
  {
   "cell_type": "markdown",
   "id": "e1848382",
   "metadata": {},
   "source": [
    "### Ejemplo completo: leer un archivo y copiar su contenido"
   ]
  },
  {
   "cell_type": "code",
   "execution_count": null,
   "id": "0376b2e2",
   "metadata": {},
   "outputs": [],
   "source": [
    "\n",
    "with open('archivo.txt', 'r', encoding='utf-8') as entrada:\n",
    "    contenido = entrada.read()\n",
    "\n",
    "with open('copia_archivo.txt', 'w', encoding='utf-8') as salida:\n",
    "    salida.write(contenido)\n"
   ]
  },
  {
   "cell_type": "markdown",
   "id": "c939543a",
   "metadata": {},
   "source": [
    "### Actividad 1: Crear log.txt con fecha y hora"
   ]
  },
  {
   "cell_type": "code",
   "execution_count": null,
   "id": "4d9e9c51",
   "metadata": {},
   "outputs": [],
   "source": [
    "\n",
    "import datetime\n",
    "\n",
    "with open('log.txt', 'a', encoding='utf-8') as log:\n",
    "    ahora = datetime.datetime.now()\n",
    "    log.write(f\"Log generado en: {ahora}\\n\")\n"
   ]
  },
  {
   "cell_type": "markdown",
   "id": "88991c42",
   "metadata": {},
   "source": [
    "### Actividad 2: Leer nombres de datos.txt y mostrarlos ordenados"
   ]
  },
  {
   "cell_type": "code",
   "execution_count": null,
   "id": "7ec965a2",
   "metadata": {},
   "outputs": [],
   "source": [
    "\n",
    "with open('datos.txt', 'r', encoding='utf-8') as archivo:\n",
    "    nombres = [linea.strip() for linea in archivo if linea.strip()]\n",
    "\n",
    "nombres_ordenados = sorted(nombres)\n",
    "\n",
    "print(\"Nombres ordenados:\")\n",
    "for nombre in nombres_ordenados:\n",
    "    print(nombre)\n"
   ]
  },
  {
   "cell_type": "markdown",
   "id": "f9be8315",
   "metadata": {},
   "source": [
    "### Actividad 3: Limpiar productos.txt y guardar productos_limpios.txt"
   ]
  },
  {
   "cell_type": "code",
   "execution_count": null,
   "id": "9a740952",
   "metadata": {},
   "outputs": [],
   "source": [
    "\n",
    "with open('productos.txt', 'r', encoding='utf-8') as archivo:\n",
    "    productos = [linea.strip() for linea in archivo if linea.strip()]\n",
    "\n",
    "with open('productos_limpios.txt', 'w', encoding='utf-8') as salida:\n",
    "    for producto in productos:\n",
    "        salida.write(producto + '\\n')\n",
    "\n",
    "print(\"Archivo productos_limpios.txt generado.\")\n"
   ]
  }
 ],
 "metadata": {},
 "nbformat": 4,
 "nbformat_minor": 5
}
