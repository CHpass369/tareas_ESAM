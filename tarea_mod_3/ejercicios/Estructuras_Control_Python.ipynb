{
 "cells": [
  {
   "cell_type": "markdown",
   "id": "07c7bacd",
   "metadata": {},
   "source": [
    "# Estructuras de control: Condicionales y Bucles\n",
    "Ejemplos prácticos en Python para la clase."
   ]
  },
  {
   "cell_type": "markdown",
   "id": "0e1b3e76",
   "metadata": {},
   "source": [
    "### Ejemplo 1: Condicional simple con `input()`"
   ]
  },
  {
   "cell_type": "code",
   "execution_count": null,
   "id": "acda42ab",
   "metadata": {},
   "outputs": [],
   "source": [
    "\n",
    "# El programa pedirá al usuario su edad y mostrará un mensaje\n",
    "# indicando si es mayor o menor de edad.\n",
    "\n",
    "edad = int(input(\"Ingrese su edad: \"))\n",
    "\n",
    "if edad >= 18:\n",
    "    print(\"Eres mayor de edad.\")\n",
    "else:\n",
    "    print(\"Eres menor de edad.\")\n"
   ]
  },
  {
   "cell_type": "markdown",
   "id": "c21ba01f",
   "metadata": {},
   "source": [
    "### Ejemplo 2: Condicional con operadores lógicos"
   ]
  },
  {
   "cell_type": "code",
   "execution_count": null,
   "id": "c459c759",
   "metadata": {},
   "outputs": [],
   "source": [
    "\n",
    "# El programa verificará si el usuario puede conducir.\n",
    "# Debe tener al menos 18 años Y tener licencia.\n",
    "\n",
    "edad = int(input(\"Ingrese su edad: \"))\n",
    "licencia = input(\"¿Tiene licencia de conducir? (si/no): \")\n",
    "\n",
    "if edad >= 18 and licencia == \"si\":\n",
    "    print(\"Puede conducir.\")\n",
    "else:\n",
    "    print(\"No puede conducir.\")\n"
   ]
  },
  {
   "cell_type": "markdown",
   "id": "188673c9",
   "metadata": {},
   "source": [
    "### Ejemplo 3: Bucle `for` sobre una lista"
   ]
  },
  {
   "cell_type": "code",
   "execution_count": null,
   "id": "62c52e2e",
   "metadata": {},
   "outputs": [],
   "source": [
    "\n",
    "# Vamos a recorrer una lista de frutas e imprimir cada una.\n",
    "\n",
    "frutas = [\"manzana\", \"plátano\", \"cereza\"]\n",
    "\n",
    "for fruta in frutas:\n",
    "    print(\"Me gusta la\", fruta)\n"
   ]
  },
  {
   "cell_type": "markdown",
   "id": "b0dd5e49",
   "metadata": {},
   "source": [
    "### Ejemplo 4: Bucle `for` con `range()`"
   ]
  },
  {
   "cell_type": "code",
   "execution_count": null,
   "id": "1fa6eb00",
   "metadata": {},
   "outputs": [],
   "source": [
    "\n",
    "# Imprimiremos los números del 0 al 4 usando range().\n",
    "\n",
    "for i in range(5):\n",
    "    print(\"Número:\", i)\n"
   ]
  },
  {
   "cell_type": "markdown",
   "id": "2e9c6f0e",
   "metadata": {},
   "source": [
    "### Ejemplo 5: Bucle `while` con condición de parada"
   ]
  },
  {
   "cell_type": "code",
   "execution_count": null,
   "id": "113754f0",
   "metadata": {},
   "outputs": [],
   "source": [
    "\n",
    "# Sumaremos números introducidos por el usuario hasta que escriba 0.\n",
    "\n",
    "suma = 0\n",
    "numero = int(input(\"Ingrese un número (0 para terminar): \"))\n",
    "\n",
    "while numero != 0:\n",
    "    suma += numero\n",
    "    numero = int(input(\"Ingrese otro número (0 para terminar): \"))\n",
    "\n",
    "print(\"La suma total es:\", suma)\n"
   ]
  },
  {
   "cell_type": "markdown",
   "id": "acbc8bef",
   "metadata": {},
   "source": [
    "### Ejemplo 6: Uso de `break` en un bucle `for`"
   ]
  },
  {
   "cell_type": "code",
   "execution_count": null,
   "id": "3cfe43b3",
   "metadata": {},
   "outputs": [],
   "source": [
    "\n",
    "# Imprimiremos números del 0 al 9, pero se detendrá al llegar a 5.\n",
    "\n",
    "for numero in range(10):\n",
    "    if numero == 5:\n",
    "        break\n",
    "    print(numero)\n"
   ]
  },
  {
   "cell_type": "markdown",
   "id": "23162153",
   "metadata": {},
   "source": [
    "### Ejemplo 7: Uso de `continue` en un bucle `for`"
   ]
  },
  {
   "cell_type": "code",
   "execution_count": null,
   "id": "69d240b7",
   "metadata": {},
   "outputs": [],
   "source": [
    "\n",
    "# Imprimiremos los números del 0 al 4, excepto el 2.\n",
    "\n",
    "for numero in range(5):\n",
    "    if numero == 2:\n",
    "        continue\n",
    "    print(numero)\n"
   ]
  },
  {
   "cell_type": "markdown",
   "id": "7e8d6d97",
   "metadata": {},
   "source": [
    "### Ejemplo 8: Menú interactivo con `while`"
   ]
  },
  {
   "cell_type": "code",
   "execution_count": null,
   "id": "69976b13",
   "metadata": {},
   "outputs": [],
   "source": [
    "\n",
    "# Mostramos un menú de opciones al usuario.\n",
    "\n",
    "opcion = \"\"\n",
    "\n",
    "while opcion != \"3\":\n",
    "    print(\"\\nMenú:\")\n",
    "    print(\"1. Ver productos\")\n",
    "    print(\"2. Añadir producto\")\n",
    "    print(\"3. Salir\")\n",
    "    \n",
    "    opcion = input(\"Seleccione una opción (1-3): \")\n",
    "    \n",
    "    if opcion == \"1\":\n",
    "        print(\"Lista de productos: Producto A, Producto B, Producto C\")\n",
    "    elif opcion == \"2\":\n",
    "        nuevo_producto = input(\"Ingrese el nombre del nuevo producto: \")\n",
    "        print(\"Producto\", nuevo_producto, \"añadido.\")\n",
    "    elif opcion == \"3\":\n",
    "        print(\"Saliendo del programa...\")\n",
    "    else:\n",
    "        print(\"Opción inválida. Intente de nuevo.\")\n"
   ]
  }
 ],
 "metadata": {},
 "nbformat": 4,
 "nbformat_minor": 5
}
