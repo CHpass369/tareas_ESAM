{
 "cells": [
  {
   "cell_type": "markdown",
   "id": "55964c4a",
   "metadata": {},
   "source": [
    "## ACTIVIDAD EN CLASE ##\n",
    "### PROCESAMIENTO Y LIMPIEZA DE DATOS DE CLIENTES EN ARCHIVOS TXT, CSV, JSON Y XML UTILIZANDO PYTHON ###"
   ]
  },
  {
   "cell_type": "markdown",
   "id": "758eecda",
   "metadata": {},
   "source": [
    "- 1. Lectura y limpieza de clientes.txt\n",
    "- leer el archivo linea por linea ignorando lineas vacias o con espacios\n",
    "- limpiar cada nombre tuilizando strip() y title ()\n",
    "- Almacenar los nombres limpios en una lista y registrar en el log cuantos nombres unicos se obtuvieron."
   ]
  },
  {
   "cell_type": "code",
   "execution_count": 1,
   "id": "1c56dea0",
   "metadata": {},
   "outputs": [],
   "source": [
    "nombres_limpios = set()\n",
    "\n",
    "with open('clientes.txt', 'r', encoding='utf-8') as archivo:\n",
    "    for linea in archivo:\n",
    "        nombre = linea.strip()\n",
    "        if nombre:  \n",
    "            nombre_limpio = nombre.title()\n",
    "            nombres_limpios.add(nombre_limpio)\n",
    "\n",
    "with open('log.txt', 'a', encoding='utf-8') as log:\n",
    "    log.write(f'Se obtuvieron {len(nombres_limpios)} nombres únicos.\\n')"
   ]
  },
  {
   "cell_type": "markdown",
   "id": "4e8df3a8",
   "metadata": {},
   "source": [
    "2. Lectura de parámetros desde config.json\n",
    "- Leer los parámetros \"limite_ventas\" y \"ordenar_por\" desde el archivo JSON.\n",
    "- Imprimir estos valores como parte del log del script."
   ]
  },
  {
   "cell_type": "code",
   "execution_count": 2,
   "id": "2b67507c",
   "metadata": {},
   "outputs": [],
   "source": [
    "import json\n",
    "\n",
    "with open('config.json', 'r', encoding='utf-8') as config_file:\n",
    "    config = json.load(config_file)\n",
    "    limite_ventas = config.get('limite_ventas')\n",
    "    ordenar_por = config.get('ordenar_por')\n",
    "\n",
    "with open('log.txt', 'a', encoding='utf-8') as log:\n",
    "    log.write(f'Parámetros leídos: limite_ventas={limite_ventas}, ordenar_por={ordenar_por}\\n')"
   ]
  },
  {
   "cell_type": "markdown",
   "id": "73a9d404",
   "metadata": {},
   "source": [
    "3. Procesamiento de ventas.csv con pandas\n",
    "- Leer el archivo CSV con pandas.\n",
    "- Filtrar ventas mayores o iguales al valor definido en \"limite_ventas\".\n",
    "- Agrupar por cliente y calcular el total de ventas por nombre.\n",
    "- Ordenar según el campo \"ordenar_por\"."
   ]
  },
  {
   "cell_type": "code",
   "execution_count": 3,
   "id": "4d62a595",
   "metadata": {},
   "outputs": [],
   "source": [
    "import pandas as pd\n",
    "\n",
    "ventas_df = pd.read_csv('ventas.csv')\n",
    "\n",
    "ventas_filtradas = ventas_df[ventas_df['Monto'] >= limite_ventas]\n",
    "\n",
    "ventas_agrupadas = ventas_filtradas.groupby('Nombre', as_index=False)['Monto'].sum()\n",
    "\n",
    "ventas_agrupadas = ventas_agrupadas.rename(columns={'Monto': 'monto_total', 'Nombre': 'cliente'})\n",
    "\n",
    "ventas_ordenadas = ventas_agrupadas.sort_values(by=ordenar_por, ascending=False)\n",
    "\n",
    "with open('log.txt', 'a', encoding='utf-8') as log:\n",
    "    log.write(f'Se procesaron {len(ventas_ordenadas)} clientes en ventas.csv\\n')"
   ]
  },
  {
   "cell_type": "markdown",
   "id": "dfe8fa62",
   "metadata": {},
   "source": [
    "4. Lectura de clientes.xml\n",
    "- Utilizar xml.etree.ElementTree para extraer:\n",
    "        ◦ Nombre\n",
    "        ◦ Edad\n",
    "        ◦ Ciudad\n",
    "- Vincular esta información con los nombres ya normalizados del paso 1."
   ]
  },
  {
   "cell_type": "code",
   "execution_count": 4,
   "id": "fb33b850",
   "metadata": {},
   "outputs": [],
   "source": [
    "import xml.etree.ElementTree as ET\n",
    "\n",
    "tree = ET.parse('clientes.xml')\n",
    "root = tree.getroot()\n",
    "\n",
    "clientes_info = {}\n",
    "\n",
    "for cliente in root.findall('cliente'):\n",
    "    nombre = cliente.find('nombre').text.strip().title()\n",
    "    edad = cliente.find('edad').text.strip()\n",
    "    ciudad = cliente.find('ciudad').text.strip()\n",
    "    if nombre in nombres_limpios:\n",
    "        clientes_info[nombre] = {\n",
    "            'edad': edad,\n",
    "            'ciudad': ciudad\n",
    "        }\n",
    "\n",
    "with open('log.txt', 'a', encoding='utf-8') as log:\n",
    "    log.write(f'Se vincularon {len(clientes_info)} clientes del XML con los nombres normalizados.\\n')"
   ]
  },
  {
   "cell_type": "markdown",
   "id": "34240e63",
   "metadata": {},
   "source": [
    "5. Unificación de la información\n",
    "- Para cada cliente presente en los archivos, combinar la información:\n",
    "        ◦ Nombre limpio\n",
    "        ◦ Ciudad (desde XML)\n",
    "        ◦ Edad (desde XML)\n",
    "        ◦ Total de ventas (desde CSV)\n",
    "        ◦ Indicador es_mayor_edad (True si edad >= 18)\n",
    "- Almacenar los datos combinados en una nueva estructura."
   ]
  },
  {
   "cell_type": "code",
   "execution_count": 8,
   "id": "d2800cd2",
   "metadata": {},
   "outputs": [],
   "source": [
    "ventas_por_cliente = dict(zip(ventas_ordenadas['cliente'].str.strip().str.title(), ventas_ordenadas['monto_total']))\n",
    "\n",
    "clientes_unificados = []\n",
    "\n",
    "for nombre in nombres_limpios:\n",
    "    ciudad = clientes_info.get(nombre, {}).get('ciudad')\n",
    "    edad_str = clientes_info.get(nombre, {}).get('edad')\n",
    "    edad = int(edad_str) if edad_str and edad_str.isdigit() else None\n",
    "    total_ventas = ventas_por_cliente.get(nombre, 0)\n",
    "    es_mayor_edad = edad is not None and edad >= 18\n",
    "\n",
    "    cliente_dict = {\n",
    "        'nombre': nombre,\n",
    "        'ciudad': ciudad,\n",
    "        'edad': edad,\n",
    "        'total_ventas': total_ventas,\n",
    "        'es_mayor_edad': es_mayor_edad\n",
    "    }\n",
    "    clientes_unificados.append(cliente_dict)\n",
    "\n",
    "with open('log.txt', 'a', encoding='utf-8') as log:\n",
    "    log.write(f'Se unificaron datos de {len(clientes_unificados)} clientes.\\n')"
   ]
  },
  {
   "cell_type": "markdown",
   "id": "76fc5089",
   "metadata": {},
   "source": [
    "6. Exportación y generación de resultados\n",
    "- Exportar los datos finales a un archivo clientes_final.csv.\n",
    "- Escribir en log.txt el mensaje:\n",
    "        ◦ “Procesamiento finalizado con éxito.”\n",
    "        ◦ Fecha y hora de ejecución\n",
    "        ◦ Cantidad de registros procesados"
   ]
  },
  {
   "cell_type": "code",
   "execution_count": 10,
   "id": "9160653a",
   "metadata": {},
   "outputs": [],
   "source": [
    "import csv\n",
    "from datetime import datetime\n",
    "\n",
    "with open('clientes_final.csv', 'w', newline='', encoding='utf-8') as csvfile:\n",
    "    fieldnames = ['nombre', 'ciudad', 'edad', 'total_ventas', 'es_mayor_edad']\n",
    "    writer = csv.DictWriter(csvfile, fieldnames=fieldnames)\n",
    "    writer.writeheader()\n",
    "    for cliente in clientes_unificados:\n",
    "        writer.writerow(cliente)\n",
    "\n",
    "with open('log.txt', 'a', encoding='utf-8') as log:\n",
    "    log.write('Procesamiento finalizado con éxito.\\n')\n",
    "    log.write(f'Fecha y hora de ejecución: {datetime.now()}\\n')\n",
    "    log.write(f'Cantidad de registros procesados: {len(clientes_unificados)}\\n')"
   ]
  }
 ],
 "metadata": {
  "kernelspec": {
   "display_name": "geo",
   "language": "python",
   "name": "python3"
  },
  "language_info": {
   "codemirror_mode": {
    "name": "ipython",
    "version": 3
   },
   "file_extension": ".py",
   "mimetype": "text/x-python",
   "name": "python",
   "nbconvert_exporter": "python",
   "pygments_lexer": "ipython3",
   "version": "3.12.6"
  }
 },
 "nbformat": 4,
 "nbformat_minor": 5
}
