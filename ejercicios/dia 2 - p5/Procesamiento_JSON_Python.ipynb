{
 "cells": [
  {
   "cell_type": "markdown",
   "id": "5e17d9fd",
   "metadata": {},
   "source": [
    "# Procesamiento de archivos JSON\n",
    "Ejemplos prácticos en Python para la clase."
   ]
  },
  {
   "cell_type": "markdown",
   "id": "9c03c70c",
   "metadata": {},
   "source": [
    "### Carga de la librería json"
   ]
  },
  {
   "cell_type": "code",
   "execution_count": null,
   "id": "0c8fdcbf",
   "metadata": {},
   "outputs": [],
   "source": [
    "import json"
   ]
  },
  {
   "cell_type": "markdown",
   "id": "2ac4ca29",
   "metadata": {},
   "source": [
    "### Leer un archivo JSON: `json.load()`"
   ]
  },
  {
   "cell_type": "code",
   "execution_count": null,
   "id": "52a04225",
   "metadata": {},
   "outputs": [],
   "source": [
    "\n",
    "with open('config.json', 'r', encoding='utf-8') as archivo:\n",
    "    datos = json.load(archivo)\n",
    "\n",
    "print(datos)\n"
   ]
  },
  {
   "cell_type": "markdown",
   "id": "2a161c6d",
   "metadata": {},
   "source": [
    "### Acceder a parámetros del JSON"
   ]
  },
  {
   "cell_type": "code",
   "execution_count": null,
   "id": "4b35ac20",
   "metadata": {},
   "outputs": [],
   "source": [
    "\n",
    "print(\"Modo:\", datos[\"parametros\"][\"modo\"])\n",
    "print(\"Usuarios:\", datos[\"usuarios\"])\n"
   ]
  },
  {
   "cell_type": "markdown",
   "id": "f5a51ebb",
   "metadata": {},
   "source": [
    "### Escribir un nuevo archivo JSON: `json.dump()`"
   ]
  },
  {
   "cell_type": "code",
   "execution_count": null,
   "id": "2fc75261",
   "metadata": {},
   "outputs": [],
   "source": [
    "\n",
    "nuevo_dato = {\n",
    "    \"nombre\": \"Carlos\",\n",
    "    \"edad\": 40,\n",
    "    \"activo\": True\n",
    "}\n",
    "\n",
    "with open('salida.json', 'w', encoding='utf-8') as archivo:\n",
    "    json.dump(nuevo_dato, archivo, indent=4)\n",
    "\n",
    "print(\"Archivo salida.json generado.\")\n"
   ]
  },
  {
   "cell_type": "markdown",
   "id": "32eb5c73",
   "metadata": {},
   "source": [
    "### Convertir de JSON a string: `json.dumps()`"
   ]
  },
  {
   "cell_type": "code",
   "execution_count": null,
   "id": "91c8547a",
   "metadata": {},
   "outputs": [],
   "source": [
    "\n",
    "texto_json = json.dumps(nuevo_dato, indent=4)\n",
    "print(texto_json)\n"
   ]
  },
  {
   "cell_type": "markdown",
   "id": "6d7d7cda",
   "metadata": {},
   "source": [
    "### Convertir de string JSON a diccionario: `json.loads()`"
   ]
  },
  {
   "cell_type": "code",
   "execution_count": null,
   "id": "2e5e6161",
   "metadata": {},
   "outputs": [],
   "source": [
    "\n",
    "json_str = '{\"nombre\": \"Ana\", \"edad\": 30, \"activo\": true}'\n",
    "\n",
    "diccionario = json.loads(json_str)\n",
    "print(diccionario)\n"
   ]
  },
  {
   "cell_type": "markdown",
   "id": "73680bfa",
   "metadata": {},
   "source": [
    "### Actividad 1: Leer config.json y mostrar todos los parámetros"
   ]
  },
  {
   "cell_type": "code",
   "execution_count": null,
   "id": "60935c28",
   "metadata": {},
   "outputs": [],
   "source": [
    "\n",
    "with open('config.json', 'r', encoding='utf-8') as archivo:\n",
    "    datos = json.load(archivo)\n",
    "\n",
    "print(json.dumps(datos, indent=4))\n"
   ]
  },
  {
   "cell_type": "markdown",
   "id": "c2db583a",
   "metadata": {},
   "source": [
    "### Actividad 2: Modificar un parámetro y guardar el JSON actualizado"
   ]
  },
  {
   "cell_type": "code",
   "execution_count": null,
   "id": "5a386fe3",
   "metadata": {},
   "outputs": [],
   "source": [
    "\n",
    "datos[\"parametros\"][\"limite\"] = 200\n",
    "\n",
    "with open('config_actualizado.json', 'w', encoding='utf-8') as archivo:\n",
    "    json.dump(datos, archivo, indent=4)\n",
    "\n",
    "print(\"Archivo config_actualizado.json generado.\")\n"
   ]
  },
  {
   "cell_type": "markdown",
   "id": "97ef07cc",
   "metadata": {},
   "source": [
    "### Actividad 3: Crear un JSON con productos y precios"
   ]
  },
  {
   "cell_type": "code",
   "execution_count": null,
   "id": "e9eeaf58",
   "metadata": {},
   "outputs": [],
   "source": [
    "\n",
    "productos = [\n",
    "    {\"producto\": \"Laptop\", \"precio\": 1200},\n",
    "    {\"producto\": \"Teléfono\", \"precio\": 850}\n",
    "]\n",
    "\n",
    "with open('productos.json', 'w', encoding='utf-8') as archivo:\n",
    "    json.dump(productos, archivo, indent=4)\n",
    "\n",
    "print(\"Archivo productos.json generado.\")\n"
   ]
  }
 ],
 "metadata": {},
 "nbformat": 4,
 "nbformat_minor": 5
}
