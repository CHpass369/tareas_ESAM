{
 "cells": [
  {
   "cell_type": "markdown",
   "id": "c46638c2",
   "metadata": {},
   "source": [
    "# Lectura y escritura de archivos de texto (TXT)\n",
    "Ejemplos prácticos en Python para la clase."
   ]
  },
  {
   "cell_type": "markdown",
   "id": "5e3aba0a",
   "metadata": {},
   "source": [
    "### Conceptos básicos\n",
    "Usamos `with open()` para abrir y trabajar con archivos de texto."
   ]
  },
  {
   "cell_type": "markdown",
   "id": "3fc6504e",
   "metadata": {},
   "source": [
    "### Modos de apertura\n",
    "'r' → Lectura\n",
    "'w' → Escritura (sobrescribe)\n",
    "'a' → Adición"
   ]
  },
  {
   "cell_type": "markdown",
   "id": "3254f455",
   "metadata": {},
   "source": [
    "### Leer todo el contenido de un archivo"
   ]
  },
  {
   "cell_type": "code",
   "execution_count": null,
   "id": "c4dfe025",
   "metadata": {},
   "outputs": [],
   "source": [
    "\n",
    "with open('archivo.txt', 'r') as archivo:\n",
    "    contenido = archivo.read()\n",
    "    print(contenido)\n"
   ]
  },
  {
   "cell_type": "markdown",
   "id": "3b692341",
   "metadata": {},
   "source": [
    "### Leer línea por línea"
   ]
  },
  {
   "cell_type": "code",
   "execution_count": null,
   "id": "3fb688d0",
   "metadata": {},
   "outputs": [],
   "source": [
    "\n",
    "with open('archivo.txt', 'r') as archivo:\n",
    "    for linea in archivo:\n",
    "        print(linea.strip())\n"
   ]
  },
  {
   "cell_type": "markdown",
   "id": "6ad32ebd",
   "metadata": {},
   "source": [
    "### Escritura de un archivo (modo 'w')"
   ]
  },
  {
   "cell_type": "code",
   "execution_count": null,
   "id": "eb605d47",
   "metadata": {},
   "outputs": [],
   "source": [
    "\n",
    "with open('salida.txt', 'w') as archivo:\n",
    "    archivo.write(\"Primera línea de texto.\\n\")\n",
    "    archivo.write(\"Segunda línea de texto.\\n\")\n"
   ]
  },
  {
   "cell_type": "markdown",
   "id": "ef8c50fd",
   "metadata": {},
   "source": [
    "### Añadir contenido (modo 'a')"
   ]
  },
  {
   "cell_type": "code",
   "execution_count": null,
   "id": "34901527",
   "metadata": {},
   "outputs": [],
   "source": [
    "\n",
    "with open('salida.txt', 'a') as archivo:\n",
    "    archivo.write(\"Nueva línea añadida.\\n\")\n"
   ]
  },
  {
   "cell_type": "markdown",
   "id": "c2feef1e",
   "metadata": {},
   "source": [
    "### Ejemplo completo: leer un archivo y copiar su contenido"
   ]
  },
  {
   "cell_type": "code",
   "execution_count": null,
   "id": "346a7c1b",
   "metadata": {},
   "outputs": [],
   "source": [
    "\n",
    "with open('archivo.txt', 'r') as entrada:\n",
    "    contenido = entrada.read()\n",
    "\n",
    "with open('copia_archivo.txt', 'w') as salida:\n",
    "    salida.write(contenido)\n"
   ]
  },
  {
   "cell_type": "markdown",
   "id": "6b9a6f39",
   "metadata": {},
   "source": [
    "### Actividad 1: Crear log.txt con fecha y hora"
   ]
  },
  {
   "cell_type": "code",
   "execution_count": null,
   "id": "d8ead643",
   "metadata": {},
   "outputs": [],
   "source": [
    "\n",
    "import datetime\n",
    "\n",
    "with open('log.txt', 'a') as log:\n",
    "    ahora = datetime.datetime.now()\n",
    "    log.write(f\"Log generado en: {ahora}\\n\")\n"
   ]
  },
  {
   "cell_type": "markdown",
   "id": "b11b0c28",
   "metadata": {},
   "source": [
    "### Actividad 2: Leer nombres de datos.txt y mostrarlos ordenados"
   ]
  },
  {
   "cell_type": "code",
   "execution_count": null,
   "id": "db340793",
   "metadata": {},
   "outputs": [],
   "source": [
    "\n",
    "with open('datos.txt', 'r') as archivo:\n",
    "    nombres = [linea.strip() for linea in archivo if linea.strip()]\n",
    "\n",
    "nombres_ordenados = sorted(nombres)\n",
    "\n",
    "print(\"Nombres ordenados:\")\n",
    "for nombre in nombres_ordenados:\n",
    "    print(nombre)\n"
   ]
  },
  {
   "cell_type": "markdown",
   "id": "07b16a8f",
   "metadata": {},
   "source": [
    "### Actividad 3: Limpiar productos.txt y guardar productos_limpios.txt"
   ]
  },
  {
   "cell_type": "code",
   "execution_count": null,
   "id": "d6b1b115",
   "metadata": {},
   "outputs": [],
   "source": [
    "\n",
    "with open('productos.txt', 'r') as archivo:\n",
    "    productos = [linea.strip() for linea in archivo if linea.strip()]\n",
    "\n",
    "with open('productos_limpios.txt', 'w') as salida:\n",
    "    for producto in productos:\n",
    "        salida.write(producto + '\\n')\n",
    "\n",
    "print(\"Archivo productos_limpios.txt generado.\")\n"
   ]
  }
 ],
 "metadata": {},
 "nbformat": 4,
 "nbformat_minor": 5
}
