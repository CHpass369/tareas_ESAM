{
 "cells": [
  {
   "cell_type": "markdown",
   "id": "be2241fc",
   "metadata": {},
   "source": [
    "# Procesamiento de archivos XML — Versión v3\n",
    "✅ Incluye verificación de carpeta actual"
   ]
  },
  {
   "cell_type": "code",
   "execution_count": null,
   "id": "8f4a2ef9",
   "metadata": {},
   "outputs": [],
   "source": [
    "\n",
    "import os\n",
    "print(\"Current working directory:\", os.getcwd())\n"
   ]
  },
  {
   "cell_type": "markdown",
   "id": "3f4be3d7",
   "metadata": {},
   "source": [
    "# Introducción al procesamiento de archivos XML\n",
    "Ejemplos prácticos en Python para la clase."
   ]
  },
  {
   "cell_type": "markdown",
   "id": "0a449c59",
   "metadata": {},
   "source": [
    "### Carga de la librería xml.etree.ElementTree"
   ]
  },
  {
   "cell_type": "code",
   "execution_count": null,
   "id": "41c364f4",
   "metadata": {},
   "outputs": [],
   "source": [
    "import xml.etree.ElementTree as ET"
   ]
  },
  {
   "cell_type": "markdown",
   "id": "56f7795b",
   "metadata": {},
   "source": [
    "### Leer un archivo XML: `ET.parse()`"
   ]
  },
  {
   "cell_type": "code",
   "execution_count": null,
   "id": "64b94c37",
   "metadata": {},
   "outputs": [],
   "source": [
    "\n",
    "arbol = ET.parse('clientes.xml')\n",
    "raiz = arbol.getroot()\n",
    "\n",
    "print(\"Etiqueta raíz:\", raiz.tag)\n"
   ]
  },
  {
   "cell_type": "markdown",
   "id": "64bfc799",
   "metadata": {},
   "source": [
    "### Recorrer elementos del XML"
   ]
  },
  {
   "cell_type": "code",
   "execution_count": null,
   "id": "57278d4e",
   "metadata": {},
   "outputs": [],
   "source": [
    "\n",
    "for cliente in raiz.findall('cliente'):\n",
    "    nombre = cliente.find('nombre').text\n",
    "    edad = cliente.find('edad').text\n",
    "    ciudad = cliente.find('ciudad').text\n",
    "\n",
    "    print(f\"Nombre: {nombre} | Edad: {edad} | Ciudad: {ciudad}\")\n"
   ]
  },
  {
   "cell_type": "markdown",
   "id": "abec84e1",
   "metadata": {},
   "source": [
    "### Crear un nuevo archivo XML"
   ]
  },
  {
   "cell_type": "code",
   "execution_count": null,
   "id": "92bc3268",
   "metadata": {},
   "outputs": [],
   "source": [
    "\n",
    "root = ET.Element('productos')\n",
    "\n",
    "producto1 = ET.SubElement(root, 'producto')\n",
    "ET.SubElement(producto1, 'nombre').text = 'Laptop'\n",
    "ET.SubElement(producto1, 'precio').text = '1200'\n",
    "\n",
    "producto2 = ET.SubElement(root, 'producto')\n",
    "ET.SubElement(producto2, 'nombre').text = 'Teléfono'\n",
    "ET.SubElement(producto2, 'precio').text = '850'\n",
    "\n",
    "tree = ET.ElementTree(root)\n",
    "tree.write('productos.xml', encoding='utf-8', xml_declaration=True)\n",
    "\n",
    "print(\"Archivo productos.xml generado.\")\n"
   ]
  },
  {
   "cell_type": "markdown",
   "id": "887b3e77",
   "metadata": {},
   "source": [
    "### Actividad 1: Leer clientes.xml y mostrar todos los clientes"
   ]
  },
  {
   "cell_type": "code",
   "execution_count": null,
   "id": "084a126c",
   "metadata": {},
   "outputs": [],
   "source": [
    "\n",
    "arbol = ET.parse('clientes.xml')\n",
    "raiz = arbol.getroot()\n",
    "\n",
    "for cliente in raiz.findall('cliente'):\n",
    "    nombre = cliente.find('nombre').text\n",
    "    edad = cliente.find('edad').text\n",
    "    ciudad = cliente.find('ciudad').text\n",
    "\n",
    "    print(f\"Nombre: {nombre} | Edad: {edad} | Ciudad: {ciudad}\")\n"
   ]
  },
  {
   "cell_type": "markdown",
   "id": "7de87475",
   "metadata": {},
   "source": [
    "### Actividad 2: Crear un nuevo archivo productos.xml"
   ]
  },
  {
   "cell_type": "code",
   "execution_count": null,
   "id": "aa997ba0",
   "metadata": {},
   "outputs": [],
   "source": [
    "\n",
    "root = ET.Element('productos')\n",
    "\n",
    "producto1 = ET.SubElement(root, 'producto')\n",
    "ET.SubElement(producto1, 'nombre').text = 'Monitor'\n",
    "ET.SubElement(producto1, 'precio').text = '600'\n",
    "\n",
    "producto2 = ET.SubElement(root, 'producto')\n",
    "ET.SubElement(producto2, 'nombre').text = 'Impresora'\n",
    "ET.SubElement(producto2, 'precio').text = '450'\n",
    "\n",
    "tree = ET.ElementTree(root)\n",
    "tree.write('productos.xml', encoding='utf-8', xml_declaration=True)\n",
    "\n",
    "print(\"Archivo productos.xml generado.\")\n"
   ]
  },
  {
   "cell_type": "markdown",
   "id": "ac388fd9",
   "metadata": {},
   "source": [
    "### Actividad 3: Modificar la ciudad de un cliente y guardar archivo actualizado"
   ]
  },
  {
   "cell_type": "code",
   "execution_count": null,
   "id": "6aec80a3",
   "metadata": {},
   "outputs": [],
   "source": [
    "\n",
    "arbol = ET.parse('clientes.xml')\n",
    "raiz = arbol.getroot()\n",
    "\n",
    "cliente1 = raiz.find('cliente')\n",
    "cliente1.find('ciudad').text = 'Sucre'\n",
    "\n",
    "arbol.write('clientes_actualizado.xml', encoding='utf-8', xml_declaration=True)\n",
    "\n",
    "print(\"Archivo clientes_actualizado.xml generado.\")\n"
   ]
  }
 ],
 "metadata": {},
 "nbformat": 4,
 "nbformat_minor": 5
}
